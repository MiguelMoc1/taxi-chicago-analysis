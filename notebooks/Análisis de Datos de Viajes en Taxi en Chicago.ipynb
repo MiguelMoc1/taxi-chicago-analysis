{
 "cells": [
  {
   "cell_type": "markdown",
   "metadata": {},
   "source": [
    "# Analisis exploratorio"
   ]
  },
  {
   "cell_type": "markdown",
   "metadata": {},
   "source": [
    "###  Importar los archivos\n",
    "En este paso, importaremos los archivos CSV proporcionados y cargaremos los datos en DataFrames de pandas.\n"
   ]
  },
  {
   "cell_type": "code",
   "execution_count": 2,
   "metadata": {},
   "outputs": [],
   "source": [
    "import pandas as pd"
   ]
  },
  {
   "cell_type": "code",
   "execution_count": 3,
   "metadata": {},
   "outputs": [
    {
     "name": "stdout",
     "output_type": "stream",
     "text": [
      "                      company_name  trips_amount\n",
      "0                        Flash Cab         19558\n",
      "1        Taxi Affiliation Services         11422\n",
      "2                Medallion Leasing         10367\n",
      "3                       Yellow Cab          9888\n",
      "4  Taxi Affiliation Service Yellow          9299\n",
      "  dropoff_location_name  average_trips\n",
      "0                  Loop   10727.466667\n",
      "1           River North    9523.666667\n",
      "2         Streeterville    6664.666667\n",
      "3             West Loop    5163.666667\n",
      "4                O'Hare    2546.900000\n"
     ]
    }
   ],
   "source": [
    "# Importar los archivos CSV\n",
    "file_path_01 = '/datasets/project_sql_result_01.csv'\n",
    "file_path_04 = '/datasets/project_sql_result_04.csv'\n",
    "\n",
    "# Cargar los datos en DataFrames de pandas\n",
    "df_01 = pd.read_csv(file_path_01)\n",
    "df_04 = pd.read_csv(file_path_04)\n",
    "\n",
    "# Mostrar las primeras filas de cada DataFrame para verificar la carga correcta\n",
    "print(df_01.head())\n",
    "print(df_04.head())\n"
   ]
  },
  {
   "cell_type": "markdown",
   "metadata": {},
   "source": [
    "###  Estudiar los datos que contienen\n",
    "En este paso, revisaremos la estructura y el contenido de los datos para asegurarnos de que se hayan importado correctamente y entender mejor la información que contienen.\n"
   ]
  },
  {
   "cell_type": "code",
   "execution_count": 4,
   "metadata": {
    "scrolled": true
   },
   "outputs": [
    {
     "name": "stdout",
     "output_type": "stream",
     "text": [
      "Registros duplicados en df_01: 0\n",
      "Registros duplicados en df_04: 0\n",
      "<class 'pandas.core.frame.DataFrame'>\n",
      "RangeIndex: 64 entries, 0 to 63\n",
      "Data columns (total 2 columns):\n",
      " #   Column        Non-Null Count  Dtype \n",
      "---  ------        --------------  ----- \n",
      " 0   company_name  64 non-null     object\n",
      " 1   trips_amount  64 non-null     int64 \n",
      "dtypes: int64(1), object(1)\n",
      "memory usage: 1.1+ KB\n",
      "None\n",
      "       trips_amount\n",
      "count     64.000000\n",
      "mean    2145.484375\n",
      "std     3812.310186\n",
      "min        2.000000\n",
      "25%       20.750000\n",
      "50%      178.500000\n",
      "75%     2106.500000\n",
      "max    19558.000000\n",
      "City Service                          1\n",
      "3623 - 72222 Arrington Enterprises    1\n",
      "2092 - 61288 Sbeih Company            1\n",
      "Sun Taxi                              1\n",
      "Blue Diamond                          1\n",
      "                                     ..\n",
      "American United Taxi Affiliation      1\n",
      "3591 - 63480 Chuks Cab                1\n",
      "24 Seven Taxi                         1\n",
      "1085 - 72312 N and W Cab Co           1\n",
      "6743 - 78771 Luhak Corp               1\n",
      "Name: company_name, Length: 64, dtype: int64\n",
      "<class 'pandas.core.frame.DataFrame'>\n",
      "RangeIndex: 94 entries, 0 to 93\n",
      "Data columns (total 2 columns):\n",
      " #   Column                 Non-Null Count  Dtype  \n",
      "---  ------                 --------------  -----  \n",
      " 0   dropoff_location_name  94 non-null     object \n",
      " 1   average_trips          94 non-null     float64\n",
      "dtypes: float64(1), object(1)\n",
      "memory usage: 1.6+ KB\n",
      "None\n",
      "       average_trips\n",
      "count      94.000000\n",
      "mean      599.953728\n",
      "std      1714.591098\n",
      "min         1.800000\n",
      "25%        14.266667\n",
      "50%        52.016667\n",
      "75%       298.858333\n",
      "max     10727.466667\n",
      "West Elsdon      1\n",
      "O'Hare           1\n",
      "West Loop        1\n",
      "South Shore      1\n",
      "Uptown           1\n",
      "                ..\n",
      "Museum Campus    1\n",
      "Logan Square     1\n",
      "Morgan Park      1\n",
      "Grant Park       1\n",
      "Mckinley Park    1\n",
      "Name: dropoff_location_name, Length: 94, dtype: int64\n"
     ]
    }
   ],
   "source": [
    "# Verificar registros duplicados en df_01 y df_04\n",
    "df_01_duplicates = df_01.duplicated().sum()\n",
    "df_04_duplicates = df_04.duplicated().sum()\n",
    "\n",
    "print(f\"Registros duplicados en df_01: {df_01_duplicates}\")\n",
    "print(f\"Registros duplicados en df_04: {df_04_duplicates}\")\n",
    "\n",
    "# Información general sobre df_01\n",
    "print(df_01.info())\n",
    "print(df_01.describe())\n",
    "print(df_01['company_name'].value_counts())\n",
    "\n",
    "# Información general sobre df_04\n",
    "print(df_04.info())\n",
    "print(df_04.describe())\n",
    "print(df_04['dropoff_location_name'].value_counts())\n"
   ]
  },
  {
   "cell_type": "markdown",
   "metadata": {},
   "source": [
    "#### Identificación de valores atípicos"
   ]
  },
  {
   "cell_type": "code",
   "execution_count": 10,
   "metadata": {
    "scrolled": true
   },
   "outputs": [
    {
     "name": "stdout",
     "output_type": "stream",
     "text": [
      "Valores atípicos en df_01:\n",
      "                        company_name  trips_amount\n",
      "0                          Flash Cab         19558\n",
      "1          Taxi Affiliation Services         11422\n",
      "2                  Medallion Leasing         10367\n",
      "3                         Yellow Cab          9888\n",
      "4    Taxi Affiliation Service Yellow          9299\n",
      "5          Chicago Carriage Cab Corp          9181\n",
      "6                       City Service          8448\n",
      "7                           Sun Taxi          7701\n",
      "8          Star North Management LLC          7455\n",
      "9  Blue Ribbon Taxi Association Inc.          5953\n",
      "Valores atípicos en df_04:\n",
      "   dropoff_location_name  average_trips\n",
      "0                   Loop   10727.466667\n",
      "1            River North    9523.666667\n",
      "2          Streeterville    6664.666667\n",
      "3              West Loop    5163.666667\n",
      "4                 O'Hare    2546.900000\n",
      "5              Lake View    2420.966667\n",
      "6             Grant Park    2068.533333\n",
      "7          Museum Campus    1510.000000\n",
      "8             Gold Coast    1364.233333\n",
      "9     Sheffield & DePaul    1259.766667\n",
      "10          Lincoln Park    1246.533333\n",
      "11          East Village    1212.066667\n",
      "12     Little Italy, UIC     863.700000\n",
      "13                Uptown     849.666667\n",
      "14       Near South Side     839.833333\n",
      "15        Garfield Ridge     745.400000\n",
      "Valores atípicos en df_07:\n",
      "               start_ts weather_conditions  duration_seconds\n",
      "79  2017-11-11 15:00:00               Good            4800.0\n",
      "276 2017-11-18 12:00:00                Bad            4980.0\n",
      "354 2017-11-25 11:00:00               Good            7440.0\n",
      "583 2017-11-11 16:00:00               Good            4980.0\n",
      "619 2017-11-25 14:00:00               Good            6420.0\n",
      "646 2017-11-11 13:00:00               Good            4380.0\n"
     ]
    }
   ],
   "source": [
    "# Identificar valores atípicos en df_01 (trips_amount)\n",
    "q1_01 = df_01['trips_amount'].quantile(0.25)\n",
    "q3_01 = df_01['trips_amount'].quantile(0.75)\n",
    "iqr_01 = q3_01 - q1_01\n",
    "outliers_01 = df_01[(df_01['trips_amount'] < (q1_01 - 1.5 * iqr_01)) | (df_01['trips_amount'] > (q3_01 + 1.5 * iqr_01))]\n",
    "print(f'Valores atípicos en df_01:\\n{outliers_01}')\n",
    "\n",
    "# Identificar valores atípicos en df_04 (average_trips)\n",
    "q1_04 = df_04['average_trips'].quantile(0.25)\n",
    "q3_04 = df_04['average_trips'].quantile(0.75)\n",
    "iqr_04 = q3_04 - q1_04\n",
    "outliers_04 = df_04[(df_04['average_trips'] < (q1_04 - 1.5 * iqr_04)) | (df_04['average_trips'] > (q3_04 + 1.5 * iqr_04))]\n",
    "print(f'Valores atípicos en df_04:\\n{outliers_04}')\n",
    "\n",
    "# Identificar valores atípicos en df_07 (duration_seconds)\n",
    "q1_07 = df_07['duration_seconds'].quantile(0.25)\n",
    "q3_07 = df_07['duration_seconds'].quantile(0.75)\n",
    "iqr_07 = q3_07 - q1_07\n",
    "outliers_07 = df_07[(df_07['duration_seconds'] < (q1_07 - 1.5 * iqr_07)) | (df_07['duration_seconds'] > (q3_07 + 1.5 * iqr_07))]\n",
    "print(f'Valores atípicos en df_07:\\n{outliers_07}')\n"
   ]
  },
  {
   "cell_type": "markdown",
   "metadata": {},
   "source": [
    "#### Conclusiones parciales\n",
    "Valores Atípicos en df_01: Los valores atípicos identificados en el conjunto de datos df_01 corresponden a las empresas de taxis con la mayor cantidad de viajes. Estos valores son significativamente mayores que el resto de los datos, lo que podría indicar una alta demanda de estas compañías específicas.\n",
    "\n",
    "Valores Atípicos en df_04: En el conjunto de datos df_04, los valores atípicos representan los barrios con la mayor cantidad promedio de viajes. Estos valores indican los barrios más populares en términos de destino de los viajes.\n",
    "\n",
    "Valores Atípicos en df_07: Los valores atípicos en df_07 representan los viajes con una duración excepcionalmente larga. Estos valores podrían estar influenciados por factores como el tráfico o condiciones climáticas adversas."
   ]
  },
  {
   "cell_type": "markdown",
   "metadata": {},
   "source": [
    "### Identificar los 10 principales barrios en términos de finalización del recorrido\n",
    "En este paso, identificaremos los 10 principales barrios en términos de finalización del recorrido utilizando los datos proporcionados en el archivo CSV df_04.\n"
   ]
  },
  {
   "cell_type": "code",
   "execution_count": 7,
   "metadata": {},
   "outputs": [
    {
     "name": "stdout",
     "output_type": "stream",
     "text": [
      "  dropoff_location_name  average_trips\n",
      "0                  Loop   10727.466667\n",
      "1           River North    9523.666667\n",
      "2         Streeterville    6664.666667\n",
      "3             West Loop    5163.666667\n",
      "4                O'Hare    2546.900000\n",
      "5             Lake View    2420.966667\n",
      "6            Grant Park    2068.533333\n",
      "7         Museum Campus    1510.000000\n",
      "8            Gold Coast    1364.233333\n",
      "9    Sheffield & DePaul    1259.766667\n"
     ]
    }
   ],
   "source": [
    "# Identificar los 10 principales barrios en términos de finalización del recorrido\n",
    "top_10_dropoff_locations = df_04.nlargest(10, 'average_trips')\n",
    "print(top_10_dropoff_locations)\n"
   ]
  },
  {
   "cell_type": "markdown",
   "metadata": {},
   "source": [
    "#### Conclusiones Parciales:\n",
    "1. **Loop** es el barrio con el mayor número de finalizaciones de viajes, con un promedio de 10727.47 viajes.\n",
    "2. **River North** sigue con un promedio de 9523.67 viajes, mostrando una alta actividad de finalización de viajes.\n",
    "3. **Streeterville** y **West Loop** también son barrios destacados, con 6664.67 y 5163.67 viajes respectivamente.\n",
    "4. **O'Hare**, aunque es conocido por ser un aeropuerto, también aparece en la lista con un promedio de 2546.90 viajes, lo que indica un número considerable de finalizaciones de viajes.\n",
    "5. Otros barrios como **Lake View**, **Grant Park**, **Museum Campus**, **Gold Coast**, y **Sheffield & DePaul** completan el top 10, con promedios que varían desde 2420.97 hasta 1259.77 viajes.\n",
    "\n",
    "Estos datos nos permiten identificar los barrios más populares para la finalización de viajes, lo que puede ser útil para estrategias de marketing y operativas."
   ]
  },
  {
   "cell_type": "markdown",
   "metadata": {},
   "source": [
    "### Hacer gráficos: empresas de taxis y número de viajes, los 10 barrios principales por número de finalizaciones\n",
    "\n",
    "En este paso, realizaremos gráficos para visualizar los datos que hemos analizado hasta ahora. Estos gráficos nos ayudarán a entender mejor las tendencias y patrones en los datos."
   ]
  },
  {
   "cell_type": "code",
   "execution_count": 8,
   "metadata": {},
   "outputs": [
    {
     "data": {
      "image/png": "[encoded data removed]",
      "text/plain": [
       "<Figure size 1000x600 with 1 Axes>"
      ]
     },
     "metadata": {},
     "output_type": "display_data"
    },
    {
     "data": {
      "image/png": "[encoded data removed]",
      "text/plain": [
       "<Figure size 1000x600 with 1 Axes>"
      ]
     },
     "metadata": {},
     "output_type": "display_data"
    }
   ],
   "source": [
    "import matplotlib.pyplot as plt\n",
    "\n",
    "# Filtrar el top 10 de empresas de taxis por número de viajes\n",
    "top_10_companies = df_01.nlargest(10, 'trips_amount')\n",
    "\n",
    "plt.figure(figsize=(10, 6))\n",
    "plt.barh(top_10_companies['company_name'], top_10_companies['trips_amount'], color='cornflowerblue')\n",
    "plt.xlabel('Número de viajes')\n",
    "plt.ylabel('Empresa de taxis')\n",
    "plt.title('Top 10 empresas de taxis por número de viajes (15-16 Nov 2017)')\n",
    "plt.gca().invert_yaxis()  # Invertir el eje y para mostrar la barra con mayor valor en la parte superior\n",
    "plt.xticks(rotation=45)\n",
    "plt.tight_layout()  # Ajustar el diseño para evitar superposición\n",
    "plt.show()\n",
    "\n",
    "# Gráfico: 10 principales barrios por número de finalizaciones\n",
    "plt.figure(figsize=(10, 6))\n",
    "plt.barh(top_10_dropoff_locations['dropoff_location_name'], top_10_dropoff_locations['average_trips'], color='lightgreen')\n",
    "plt.xlabel('Número promedio de viajes')\n",
    "plt.ylabel('Barrios')\n",
    "plt.title('Top 10 barrios por número de finalizaciones de viajes (Nov 2017)')\n",
    "plt.gca().invert_yaxis()  # Invertir el eje y para mostrar la barra con mayor valor en la parte superior\n",
    "plt.show()"
   ]
  },
  {
   "cell_type": "markdown",
   "metadata": {},
   "source": [
    "#### Conclusiones Parciales\n",
    "1. Número de Viajes por Empresa de Taxis (15-16 Nov 2017)\n",
    "Flash Cab lidera significativamente el número de viajes con un total de 19,558 viajes en los días 15 y 16 de noviembre de 2017.\n",
    "Taxi Affiliation Services y Medallion Leasing son las siguientes en el ranking con 11,422 y 10,367 viajes respectivamente.\n",
    "Empresas como Yellow Cab y Taxi Affiliation Service Yellow también muestran un número considerable de viajes, destacando su popularidad en la ciudad.\n",
    "La variabilidad en la cantidad de viajes entre diferentes empresas de taxis sugiere una competencia significativa en el mercado de taxis de Chicago, con algunas empresas dominando el mercado.\n",
    "2. Top 10 Barrios por Número de Finalizaciones de Viajes (Nov 2017)\n",
    "Loop es el barrio con la mayor cantidad de finalizaciones de viajes, con un promedio de 10,727.47 viajes en noviembre de 2017.\n",
    "River North y Streeterville también son barrios prominentes, con 9,523.67 y 6,664.67 viajes respectivamente.\n",
    "Barrios como West Loop, O'Hare y Lake View muestran un número considerable de finalizaciones de viajes, indicando su popularidad como destinos.\n",
    "La alta concentración de finalizaciones de viajes en ciertos barrios sugiere áreas de alta demanda para servicios de taxis, posiblemente debido a su atractivo comercial y residencial."
   ]
  },
  {
   "cell_type": "markdown",
   "metadata": {},
   "source": [
    "### Prueba de hipotesis"
   ]
  },
  {
   "cell_type": "markdown",
   "metadata": {},
   "source": [
    "#### Importar datos"
   ]
  },
  {
   "cell_type": "code",
   "execution_count": 8,
   "metadata": {},
   "outputs": [
    {
     "name": "stdout",
     "output_type": "stream",
     "text": [
      "              start_ts weather_conditions  duration_seconds\n",
      "0  2017-11-25 16:00:00               Good            2410.0\n",
      "1  2017-11-25 14:00:00               Good            1920.0\n",
      "2  2017-11-25 12:00:00               Good            1543.0\n",
      "3  2017-11-04 10:00:00               Good            2512.0\n",
      "4  2017-11-11 07:00:00               Good            1440.0\n"
     ]
    }
   ],
   "source": [
    "file_path_07 = '/datasets/project_sql_result_07.csv'\n",
    "\n",
    "# Cargar los datos en un DataFrame de pandas\n",
    "df_07 = pd.read_csv(file_path_07)\n",
    "\n",
    "# Mostrar las primeras filas del DataFrame para verificar la carga correcta\n",
    "print(df_07.head())"
   ]
  },
  {
   "cell_type": "markdown",
   "metadata": {},
   "source": [
    "#### Hipotesis"
   ]
  },
  {
   "cell_type": "markdown",
   "metadata": {},
   "source": [
    "Estableceremos nuestras hipótesis y realizaremos el análisis estadístico para probarlas.\n",
    "\n",
    "Hipótesis:\n",
    "\n",
    "Hipótesis nula (H0): La duración promedio de los viajes desde el Loop hasta el Aeropuerto Internacional O'Hare no cambia los sábados lluviosos.\n",
    "\n",
    "Hipótesis alternativa (H1): La duración promedio de los viajes desde el Loop hasta el Aeropuerto Internacional O'Hare cambia los sábados lluviosos.\n",
    "\n",
    "\n",
    "Cálculo de la duración promedio de los viajes:\n",
    "Usaremos los datos en df_07 para calcular la duración promedio de los viajes en sábados lluviosos y compararlos con los sábados no lluviosos."
   ]
  },
  {
   "cell_type": "code",
   "execution_count": 9,
   "metadata": {},
   "outputs": [
    {
     "name": "stdout",
     "output_type": "stream",
     "text": [
      "Duración promedio de viajes en sábados lluviosos: 2427.2055555555557 segundos\n",
      "Duración promedio de viajes en sábados no lluviosos: 1999.6756756756756 segundos\n",
      "Prueba de Levene: stat=0.38853489683656073, p=0.5332038671974493\n",
      "Prueba t: t=6.946177714041499, p=6.517970327099473e-12\n"
     ]
    }
   ],
   "source": [
    "import scipy.stats as stats\n",
    "\n",
    "# Cargar los datos en un DataFrame de pandas\n",
    "file_path_07 = '/datasets/project_sql_result_07.csv'\n",
    "df_07 = pd.read_csv(file_path_07)\n",
    "\n",
    "# Filtrar los datos para sábados lluviosos y no lluviosos\n",
    "df_07['start_ts'] = pd.to_datetime(df_07['start_ts'])\n",
    "rainy_saturdays = df_07[(df_07['weather_conditions'] == 'Bad') & (df_07['start_ts'].dt.dayofweek == 5)]\n",
    "non_rainy_saturdays = df_07[(df_07['weather_conditions'] == 'Good') & (df_07['start_ts'].dt.dayofweek == 5)]\n",
    "\n",
    "# Calcular la duración promedio de los viajes\n",
    "rainy_avg_duration = rainy_saturdays['duration_seconds'].mean()\n",
    "non_rainy_avg_duration = non_rainy_saturdays['duration_seconds'].mean()\n",
    "\n",
    "print(f'Duración promedio de viajes en sábados lluviosos: {rainy_avg_duration} segundos')\n",
    "print(f'Duración promedio de viajes en sábados no lluviosos: {non_rainy_avg_duration} segundos')\n",
    "\n",
    "# Realizar la prueba de Levene para comparar varianzas\n",
    "levene_stat, levene_p = stats.levene(rainy_saturdays['duration_seconds'], non_rainy_saturdays['duration_seconds'])\n",
    "print(f'Prueba de Levene: stat={levene_stat}, p={levene_p}')\n",
    "\n",
    "# Determinar si las varianzas son iguales o no para la prueba t\n",
    "equal_var = levene_p > 0.05\n",
    "\n",
    "# Realizar la prueba t para comparar las medias\n",
    "t_stat, p_value = stats.ttest_ind(rainy_saturdays['duration_seconds'], non_rainy_saturdays['duration_seconds'], equal_var=equal_var)\n",
    "\n",
    "print(f'Prueba t: t={t_stat}, p={p_value}')"
   ]
  },
  {
   "cell_type": "markdown",
   "metadata": {},
   "source": [
    "#### Interpretación:\n",
    "Dado que el valor p de la prueba de Levene es mayor a 0.05, no podemos rechazar la hipótesis nula de igualdad de varianzas, por lo que asumimos varianzas iguales en la prueba t. El valor p de la prueba t es extremadamente bajo (6.51797e-12), lo que indica que rechazamos la hipótesis nula de que las duraciones promedio de los viajes son iguales entre sábados lluviosos y no lluviosos. Por lo tanto, podemos concluir que la duración promedio de los viajes cambia significativamente los sábados lluviosos."
   ]
  },
  {
   "cell_type": "markdown",
   "metadata": {},
   "source": [
    "#### Conclusiones parciales\n",
    "\n",
    "Dado que el valor p es mucho menor que 0.05, rechazamos la hipótesis nula (H0) y aceptamos la hipótesis alternativa (H1). Esto sugiere que la duración promedio de los viajes desde el Loop hasta el Aeropuerto Internacional O'Hare cambia significativamente los sábados lluviosos. Por lo tanto, podemos concluir que el clima lluvioso tiene un impacto considerable en la duración de estos viajes."
   ]
  },
  {
   "cell_type": "markdown",
   "metadata": {},
   "source": [
    "#### Recomendación\n",
    "\n",
    "La empresa puede considerar ajustar sus planes operativos y de servicio en función del clima para mejorar la eficiencia y la satisfacción del cliente en días lluviosos."
   ]
  },
  {
   "cell_type": "markdown",
   "metadata": {},
   "source": [
    "### Conclusión general"
   ]
  },
  {
   "cell_type": "markdown",
   "metadata": {},
   "source": [
    "#### Introducción\n",
    "\n",
    "Este proyecto se centró en analizar los datos de viajes compartidos y el clima en Chicago con el objetivo de identificar patrones, entender las preferencias de los pasajeros y evaluar el impacto de los factores externos, como las condiciones meteorológicas, en la duración de los viajes. La base de datos incluía información sobre viajes en taxi, compañías de taxis, barrios de la ciudad y registros meteorológicos."
   ]
  },
  {
   "cell_type": "markdown",
   "metadata": {},
   "source": [
    "#### Importación y Exploración de Datos"
   ]
  },
  {
   "cell_type": "markdown",
   "metadata": {},
   "source": [
    "##### Importación de Archivos\n",
    "Importamos varios archivos CSV que contenían datos esenciales para nuestro análisis:\n",
    "\n",
    "project_sql_result_01.csv: Información sobre el número de viajes por compañía de taxis para los días 15 y 16 de noviembre de 2017.\n",
    "\n",
    "project_sql_result_04.csv: Datos sobre el promedio de viajes finalizados en varios barrios de Chicago en noviembre de 2017.\n",
    "\n",
    "project_sql_result_07.csv: Información sobre los viajes desde el Loop hasta el Aeropuerto Internacional O'Hare, incluyendo condiciones meteorológicas y duración de los viajes."
   ]
  },
  {
   "cell_type": "markdown",
   "metadata": {},
   "source": [
    "##### Exploración de Datos\n",
    "Examinamos la estructura y el contenido de los datos para asegurarnos de que se habían importado correctamente y para entender mejor la información que contenían:\n",
    "\n",
    "df_01 mostró datos de 64 compañías de taxis, con un rango amplio de números de viajes, indicando variabilidad en la popularidad de las compañías.\n",
    "\n",
    "df_04 incluyó datos de 94 barrios de Chicago, revelando que algunos barrios tienen un volumen significativamente mayor de viajes finalizados que otros."
   ]
  },
  {
   "cell_type": "markdown",
   "metadata": {},
   "source": [
    "#### Análisis Exploratorio de Datos"
   ]
  },
  {
   "cell_type": "markdown",
   "metadata": {},
   "source": [
    "##### Número de Viajes por Compañía de Taxis (15-16 Nov 2017)\n",
    "Utilizando los datos de df_01, identificamos las compañías de taxis con el mayor número de viajes en los días 15 y 16 de noviembre de 2017. Las compañías principales fueron:\n",
    "\n",
    "Flash Cab: 19558 viajes\n",
    "\n",
    "Taxi Affiliation Services: 11422 viajes\n",
    "\n",
    "Medallion Leasing: 10367 viajes\n",
    "\n",
    "Este análisis destacó la concentración de viajes en unas pocas compañías principales, sugiriendo que estas compañías dominan el mercado de taxis en Chicago."
   ]
  },
  {
   "cell_type": "markdown",
   "metadata": {},
   "source": [
    "##### Número Promedio de Viajes por Barrios (Noviembre 2017)\n",
    "Analizamos df_04 para encontrar los 10 barrios con el mayor número promedio de viajes finalizados en noviembre de 2017:\n",
    "\n",
    "Loop: 10727.47 viajes\n",
    "\n",
    "River North: 9523.67 viajes\n",
    "\n",
    "Streeterville: 6664.67 viajes\n",
    "\n",
    "Este análisis indicó que ciertos barrios, como Loop y River North, son destinos populares para los viajes en taxi, lo que podría estar relacionado con la concentración de actividades comerciales y turísticas en estas áreas."
   ]
  },
  {
   "cell_type": "markdown",
   "metadata": {},
   "source": [
    "#### Prueba de Hipótesis"
   ]
  },
  {
   "cell_type": "markdown",
   "metadata": {},
   "source": [
    "##### Hipótesis:\n",
    "Hipótesis nula (H0): La duración promedio de los viajes desde el Loop hasta el Aeropuerto Internacional O'Hare no cambia los sábados lluviosos.\n",
    "\n",
    "Hipótesis alternativa (H1): La duración promedio de los viajes desde el Loop hasta el Aeropuerto Internacional O'Hare cambia los sábados lluviosos."
   ]
  },
  {
   "cell_type": "markdown",
   "metadata": {},
   "source": [
    "##### Análisis Estadístico"
   ]
  },
  {
   "cell_type": "markdown",
   "metadata": {},
   "source": [
    "Usamos los datos de df_07 para comparar la duración promedio de los viajes en sábados lluviosos y no lluviosos:\n",
    "\n",
    "Duración promedio en sábados lluviosos: 2427.21 segundos\n",
    "\n",
    "Duración promedio en sábados no lluviosos: 1999.68 segundos\n",
    "\n",
    "\n",
    "La prueba t de Student arrojó un valor p de 6.518e-12, lo que es significativamente menor que el nivel de significancia común de 0.05. Esto llevó a rechazar la hipótesis nula y aceptar la hipótesis alternativa, indicando que el clima lluvioso tiene un impacto significativo en la duración de los viajes."
   ]
  },
  {
   "cell_type": "markdown",
   "metadata": {},
   "source": [
    "#### Conclusiones y Recomendaciones"
   ]
  },
  {
   "cell_type": "markdown",
   "metadata": {},
   "source": [
    "##### Dominio del Mercado por Pocas Compañías:\n",
    "\n",
    "Las compañías Flash Cab, Taxi Affiliation Services y Medallion Leasing dominan el mercado de taxis en Chicago, acumulando la mayoría de los viajes en los días analizados.\n",
    "\n",
    "Recomendación: Otras compañías de taxis podrían estudiar las estrategias de las principales compañías para mejorar su participación en el mercado."
   ]
  },
  {
   "cell_type": "markdown",
   "metadata": {},
   "source": [
    "##### Popularidad de Ciertos Barrios:\n",
    "\n",
    "Barrios como Loop, River North y Streeterville son destinos populares, probablemente debido a su actividad comercial y turística.\n",
    "\n",
    "Recomendación: Las compañías de taxis pueden enfocarse en mejorar la disponibilidad y el servicio en estos barrios para satisfacer la alta demanda."
   ]
  },
  {
   "cell_type": "markdown",
   "metadata": {},
   "source": [
    "##### Impacto del Clima en la Duración de los Viajes:\n",
    "\n",
    "El clima lluvioso aumenta significativamente la duración de los viajes desde el Loop hasta el Aeropuerto Internacional O'Hare.\n",
    "\n",
    "Recomendación: Las compañías de taxis pueden ajustar sus operaciones en días lluviosos, como aumentar la disponibilidad de taxis o mejorar la planificación de rutas, para minimizar los retrasos y mejorar la satisfacción del cliente."
   ]
  },
  {
   "cell_type": "markdown",
   "metadata": {},
   "source": [
    "#### Reflexiones Finales\n",
    "Este proyecto proporcionó una visión detallada de los patrones de viaje y las influencias externas en el servicio de taxis en Chicago. Los hallazgos pueden ayudar a las compañías de taxis a optimizar sus operaciones y mejorar la experiencia del cliente, mientras que las pruebas de hipótesis ofrecen una base sólida para futuras investigaciones y ajustes operativos basados en condiciones climáticas.\n",
    "\n",
    "El enfoque meticuloso en la importación, exploración y análisis de datos asegura que las decisiones y recomendaciones se basen en información precisa y relevante, apoyando así una gestión más efectiva del servicio de taxis en Chicago."
   ]
  }
 ],
 "metadata": {
  "ExecuteTimeLog": [
   {
    "duration": 449,
    "start_time": "2024-06-26T20:09:14.863Z"
   },
   {
    "duration": 58,
    "start_time": "2024-06-26T20:10:53.722Z"
   },
   {
    "duration": 9,
    "start_time": "2024-06-26T20:12:40.508Z"
   },
   {
    "duration": 2107,
    "start_time": "2024-06-26T20:17:56.733Z"
   },
   {
    "duration": 2516,
    "start_time": "2024-06-26T20:23:59.178Z"
   },
   {
    "duration": 16,
    "start_time": "2024-06-26T20:29:33.328Z"
   },
   {
    "duration": 565,
    "start_time": "2024-06-26T20:30:27.609Z"
   },
   {
    "duration": 8,
    "start_time": "2024-06-26T20:46:04.367Z"
   },
   {
    "duration": 6,
    "start_time": "2024-06-26T20:47:28.094Z"
   },
   {
    "duration": 306,
    "start_time": "2024-06-27T18:50:49.145Z"
   },
   {
    "duration": 441,
    "start_time": "2024-06-27T18:51:07.644Z"
   },
   {
    "duration": 25,
    "start_time": "2024-06-27T18:51:10.570Z"
   },
   {
    "duration": 43,
    "start_time": "2024-06-27T18:53:39.170Z"
   },
   {
    "duration": 4016,
    "start_time": "2024-06-27T18:57:10.249Z"
   },
   {
    "duration": 534,
    "start_time": "2024-06-27T18:57:35.830Z"
   },
   {
    "duration": 9,
    "start_time": "2024-06-27T18:57:55.605Z"
   },
   {
    "duration": 868,
    "start_time": "2024-06-27T18:57:58.331Z"
   },
   {
    "duration": 503,
    "start_time": "2024-06-27T19:01:45.254Z"
   },
   {
    "duration": 27,
    "start_time": "2024-06-27T19:12:03.461Z"
   }
  ],
  "kernelspec": {
   "display_name": "Python 3 (ipykernel)",
   "language": "python",
   "name": "python3"
  },
  "language_info": {
   "codemirror_mode": {
    "name": "ipython",
    "version": 3
   },
   "file_extension": ".py",
   "mimetype": "text/x-python",
   "name": "python",
   "nbconvert_exporter": "python",
   "pygments_lexer": "ipython3",
   "version": "3.9.19"
  },
  "toc": {
   "base_numbering": 1,
   "nav_menu": {},
   "number_sections": true,
   "sideBar": true,
   "skip_h1_title": true,
   "title_cell": "Table of Contents",
   "title_sidebar": "Contents",
   "toc_cell": false,
   "toc_position": {},
   "toc_section_display": true,
   "toc_window_display": false
  }
 },
 "nbformat": 4,
 "nbformat_minor": 2
}
